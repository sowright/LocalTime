{
 "cells": [
  {
   "cell_type": "code",
   "execution_count": 1,
   "metadata": {},
   "outputs": [],
   "source": [
    "import datetime as dt\n",
    "from datetime import timedelta\n",
    "import numpy as np\n",
    "import pandas as pd\n",
    "#import pytz\n"
   ]
  },
  {
   "cell_type": "code",
   "execution_count": 38,
   "metadata": {},
   "outputs": [
    {
     "name": "stdout",
     "output_type": "stream",
     "text": [
      "C:\\Users\\sowri\\Documents\\Python Files\n"
     ]
    }
   ],
   "source": [
    "!echo %cd%"
   ]
  },
  {
   "cell_type": "code",
   "execution_count": 36,
   "metadata": {},
   "outputs": [],
   "source": [
    "# I started off trying to do this in pandas. Then realized for this use / this size data set \n",
    "#  that was unnecessary. If we wanted to utilize a timezone database, though, a dataframe may\n",
    "#  be what we want at that point.\n",
    "\n",
    "\n",
    "#timeshift_df = pd.DataFrame([['west_coast',-7],['East Coast',-4],['Spain',2],['Greece',3],['Myanmar',6.5]],\n",
    " #                           columns = ['Location','Time Shift'] #, index='Location'\n",
    " #                          )\n",
    "#timeshift_df.set_index('Location', inplace=True)"
   ]
  },
  {
   "cell_type": "code",
   "execution_count": 2,
   "metadata": {},
   "outputs": [],
   "source": [
    "# Without Pandas\n",
    "\n",
    "# Build dictionary with locations and time difference from UCT manually set.\n",
    "timeshift_dict = {\n",
    "    'West Coast':-7,\n",
    "    'East Coast':-4,\n",
    "    'Spain':2,\n",
    "    'Greece':3,\n",
    "    'Myanmar':6.5\n",
    "}"
   ]
  },
  {
   "cell_type": "code",
   "execution_count": 34,
   "metadata": {},
   "outputs": [],
   "source": [
    "# Define function to calculate and print the local time for each location.\n",
    "\n",
    "def where_in_time(location = None):\n",
    "    if location==None:\n",
    "        result_dict = {}\n",
    "        for x in timeshift_dict:\n",
    "            hour_shift = timeshift_dict[x]\n",
    "            local_time = dt.datetime.utcnow() + timedelta(hours=hour_shift)\n",
    "            local_time = local_time.strftime(\"%I:%M %p, %m/%d\")\n",
    "            result_dict[x] = local_time\n",
    "        return result_dict\n",
    "    elif location in timeshift_dict:\n",
    "        hour_shift = timeshift_dict[location]\n",
    "        local_time = dt.datetime.utcnow() + timedelta(hours=hour_shift)\n",
    "        local_time = local_time.strftime(\"%I:%M %p, %m/%d\")\n",
    "        print(location + \": \" + local_time)\n",
    "    else:\n",
    "        print(\"Sorry, this input location is not recognized. Inputs accepted are:\") \n",
    "        print(list(timeshift_dict))\n",
    "        print(\"Or simply do not give an input to see all location times.\")"
   ]
  },
  {
   "cell_type": "code",
   "execution_count": 19,
   "metadata": {},
   "outputs": [
    {
     "data": {
      "text/plain": [
       "{'West Coast': '03:00 AM, 09/14',\n",
       " 'East Coast': '06:00 AM, 09/14',\n",
       " 'Spain': '12:00 PM, 09/14',\n",
       " 'Greece': '01:00 PM, 09/14',\n",
       " 'Myanmar': '04:30 PM, 09/14'}"
      ]
     },
     "execution_count": 19,
     "metadata": {},
     "output_type": "execute_result"
    }
   ],
   "source": [
    "# No input result\n",
    "where_in_time()"
   ]
  },
  {
   "cell_type": "code",
   "execution_count": 20,
   "metadata": {},
   "outputs": [
    {
     "name": "stdout",
     "output_type": "stream",
     "text": [
      "West Coast: 03:00 AM, 09/14\n"
     ]
    }
   ],
   "source": [
    "# Accepted location input\n",
    "where_in_time('West Coast')"
   ]
  },
  {
   "cell_type": "code",
   "execution_count": 35,
   "metadata": {},
   "outputs": [
    {
     "name": "stdout",
     "output_type": "stream",
     "text": [
      "Sorry, this input location is not recognized. Inputs accepted are:\n",
      "['West Coast', 'East Coast', 'Spain', 'Greece', 'Myanmar']\n",
      "Or simply do not give an input to see all location times.\n"
     ]
    }
   ],
   "source": [
    "# Unaccepted location input\n",
    "where_in_time('California')"
   ]
  },
  {
   "cell_type": "code",
   "execution_count": 37,
   "metadata": {},
   "outputs": [],
   "source": [
    "# Attempt to use python timezone functions.\n",
    "\n",
    "#print(dt.datetime.now(tz='US/Pacific'))\n",
    "#print(dt.datetime.now())\n",
    "\n",
    "# Timezones:\n",
    "# \"US/Pacific\"\n",
    "# \"US/Eastern\"\n",
    "# \"US/Alaska\""
   ]
  },
  {
   "cell_type": "code",
   "execution_count": null,
   "metadata": {},
   "outputs": [],
   "source": []
  }
 ],
 "metadata": {
  "kernelspec": {
   "display_name": "Python 3",
   "language": "python",
   "name": "python3"
  },
  "language_info": {
   "codemirror_mode": {
    "name": "ipython",
    "version": 3
   },
   "file_extension": ".py",
   "mimetype": "text/x-python",
   "name": "python",
   "nbconvert_exporter": "python",
   "pygments_lexer": "ipython3",
   "version": "3.7.3"
  }
 },
 "nbformat": 4,
 "nbformat_minor": 2
}
